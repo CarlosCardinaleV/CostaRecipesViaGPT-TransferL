{
 "cells": [
  {
   "cell_type": "code",
   "execution_count": 5,
   "metadata": {},
   "outputs": [],
   "source": [
    "# method to reformat recipes files\n",
    "def reformat_recipe_file(input_file_path, output_file_path):\n",
    "    with open(input_file_path, 'r', encoding='utf-8') as file:\n",
    "        content = file.read()\n",
    "\n",
    "    recipes = content.split('---end-of-recipe---')\n",
    "    formatted_recipes = []\n",
    "\n",
    "    for recipe in recipes:\n",
    "        if recipe.strip():\n",
    "            lines = recipe.strip().split('\\n')\n",
    "            dish_name = lines[0]\n",
    "            rest_of_recipe = '\\n'.join(lines[1:])\n",
    "\n",
    "            input_line = f'Input: \"{dish_name}\"'\n",
    "            output_line = f'Output: \"{rest_of_recipe}\"'\n",
    "            formatted_recipe = input_line + '\\n' + output_line + '\\n---end-of-recipe---\\n'\n",
    "            formatted_recipes.append(formatted_recipe)\n",
    "\n",
    "    with open(output_file_path, 'w', encoding='utf-8') as file:\n",
    "        for recipe in formatted_recipes:\n",
    "            file.write(recipe)\n",
    "\n",
    "# File paths\n",
    "input_file_path = './dishes_train_GPT2.txt'\n",
    "output_file_path = './dishes_train_xlnet.txt'\n",
    "\n",
    "reformat_recipe_file(input_file_path, output_file_path)"
   ]
  }
 ],
 "metadata": {
  "kernelspec": {
   "display_name": "base",
   "language": "python",
   "name": "python3"
  },
  "language_info": {
   "codemirror_mode": {
    "name": "ipython",
    "version": 3
   },
   "file_extension": ".py",
   "mimetype": "text/x-python",
   "name": "python",
   "nbconvert_exporter": "python",
   "pygments_lexer": "ipython3",
   "version": "3.11.5"
  }
 },
 "nbformat": 4,
 "nbformat_minor": 2
}
